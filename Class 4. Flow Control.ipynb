{
 "cells": [
  {
   "cell_type": "markdown",
   "metadata": {},
   "source": [
    "# Flow Control Statements"
   ]
  },
  {
   "cell_type": "markdown",
   "metadata": {},
   "source": [
    "## If Satement"
   ]
  },
  {
   "cell_type": "code",
   "execution_count": 1,
   "metadata": {},
   "outputs": [],
   "source": [
    "a = 30\n",
    "b = 25\n",
    "\n",
    "## Q- print the larger value "
   ]
  },
  {
   "cell_type": "code",
   "execution_count": 2,
   "metadata": {},
   "outputs": [
    {
     "name": "stdout",
     "output_type": "stream",
     "text": [
      "30\n"
     ]
    }
   ],
   "source": [
    "if a>b:\n",
    "    print(a)\n",
    "else:\n",
    "    print(b)"
   ]
  },
  {
   "cell_type": "code",
   "execution_count": 3,
   "metadata": {},
   "outputs": [],
   "source": [
    "a =70\n",
    "b =62\n",
    "c =88\n",
    "## Q- which is max value"
   ]
  },
  {
   "cell_type": "code",
   "execution_count": 4,
   "metadata": {},
   "outputs": [
    {
     "name": "stdout",
     "output_type": "stream",
     "text": [
      "c is largest\n"
     ]
    }
   ],
   "source": [
    "if (a>b) and (a>c):\n",
    "    print('a is largest')\n",
    "elif (b>a) and (b>c):\n",
    "    print('b is largest')\n",
    "else:\n",
    "    print('c is largest')"
   ]
  },
  {
   "cell_type": "code",
   "execution_count": 5,
   "metadata": {},
   "outputs": [],
   "source": [
    "##Q) Give grades to the students based on their marks\n",
    "##>60 -- \"A\"\n",
    "##>50 -- \"B\"\n",
    "##>40 -- \"c\"\n",
    "##<50 -- \"F\"\n",
    "\n",
    "## marks =22"
   ]
  },
  {
   "cell_type": "code",
   "execution_count": 6,
   "metadata": {},
   "outputs": [
    {
     "name": "stdout",
     "output_type": "stream",
     "text": [
      "F\n"
     ]
    }
   ],
   "source": [
    "m = 22\n",
    "\n",
    "if (m>60):\n",
    "    print('A')\n",
    "elif (m>50):\n",
    "    print('B')\n",
    "elif (m>40):\n",
    "    print('C')\n",
    "else:\n",
    "    print('F')"
   ]
  },
  {
   "cell_type": "code",
   "execution_count": 7,
   "metadata": {},
   "outputs": [],
   "source": [
    "maths = 75\n",
    "science = 52\n",
    "## maths   science     grade\n",
    "## >70      >70        \"A\"\n",
    "## 50-70    70-100     \"B\"\n",
    "## 70-100   50-70      \"C\"\n",
    "## 50-70    50-70      \"D\"\n",
    "## <50       <50       \"F\""
   ]
  },
  {
   "cell_type": "code",
   "execution_count": 8,
   "metadata": {},
   "outputs": [
    {
     "name": "stdout",
     "output_type": "stream",
     "text": [
      "F\n"
     ]
    }
   ],
   "source": [
    "m = 75\n",
    "s = 52\n",
    "if (m>70) and (s>70):\n",
    "    print(\"A\")\n",
    "elif (m>50-70) and (s<70-100):\n",
    "    print(\"B\")\n",
    "elif (m<70-100) and (s>50-70):\n",
    "    print(\"C\")\n",
    "else:\n",
    "    print(\"F\")"
   ]
  },
  {
   "cell_type": "code",
   "execution_count": 9,
   "metadata": {},
   "outputs": [
    {
     "name": "stdout",
     "output_type": "stream",
     "text": [
      "B\n"
     ]
    }
   ],
   "source": [
    "## maths   science     grade\n",
    "## >70      >70        \"A\"\n",
    "## >70    <70     \"B\"\n",
    "## <70   >70      \"C\"\n",
    "## <70       <70       \"F\"\n",
    "m = 75\n",
    "s = 52\n",
    "if (m>70) and (s>70):\n",
    "    print(\"A\")\n",
    "elif (m>70) and (s<70):\n",
    "    print(\"B\")\n",
    "elif (m<70) and (s>70):\n",
    "    print(\"C\")\n",
    "else:\n",
    "    print(\"F\")"
   ]
  },
  {
   "cell_type": "code",
   "execution_count": 10,
   "metadata": {},
   "outputs": [
    {
     "name": "stdout",
     "output_type": "stream",
     "text": [
      "B\n"
     ]
    }
   ],
   "source": [
    "m = 75\n",
    "s = 52\n",
    "if (m>70): \n",
    "    if (s>70):\n",
    "        print(\"A\")\n",
    "    else:\n",
    "        print(\"B\")\n",
    "else: \n",
    "    if (s>70):\n",
    "        print(\"C\")\n",
    "    else:\n",
    "        print(\"F\")"
   ]
  },
  {
   "cell_type": "code",
   "execution_count": 11,
   "metadata": {},
   "outputs": [
    {
     "name": "stdout",
     "output_type": "stream",
     "text": [
      "Original list: [10, 35, 22, 17, 41]\n",
      "First element is 10,so change it 100\n",
      "updates list: [100, 35, 22, 17, 41]\n"
     ]
    }
   ],
   "source": [
    "a =[10,35,22,17,41]\n",
    "print('Original list:',a)\n",
    "if a[0]==10:\n",
    "    print('First element is 10,so change it 100')\n",
    "    a[0]=100\n",
    "else:\n",
    "    print('first element is not 10, so change it 100')\n",
    "    a[0]=50\n",
    "    \n",
    "print('updates list:',a)\n"
   ]
  },
  {
   "cell_type": "code",
   "execution_count": 12,
   "metadata": {},
   "outputs": [
    {
     "data": {
      "text/plain": [
       "[100, 35, 22, 17, 41]"
      ]
     },
     "execution_count": 12,
     "metadata": {},
     "output_type": "execute_result"
    }
   ],
   "source": [
    "a"
   ]
  },
  {
   "cell_type": "markdown",
   "metadata": {},
   "source": [
    "## While loop"
   ]
  },
  {
   "cell_type": "code",
   "execution_count": 13,
   "metadata": {},
   "outputs": [],
   "source": [
    "## it is used tp perform set of tasks, until some condition is true "
   ]
  },
  {
   "cell_type": "code",
   "execution_count": 14,
   "metadata": {
    "scrolled": true
   },
   "outputs": [
    {
     "name": "stdout",
     "output_type": "stream",
     "text": [
      "Ashish\n",
      "Ashish\n",
      "Ashish\n",
      "Ashish\n",
      "Ashish\n"
     ]
    }
   ],
   "source": [
    "counter = 1\n",
    "while(counter<=5):\n",
    "    print('Ashish')\n",
    "    counter+=1"
   ]
  },
  {
   "cell_type": "code",
   "execution_count": 15,
   "metadata": {},
   "outputs": [],
   "source": [
    "a = 5 \n",
    "b = 12\n",
    "## print the value of a until it is less than b\n",
    "## Also keep on incrementing the value of a by 2"
   ]
  },
  {
   "cell_type": "code",
   "execution_count": 16,
   "metadata": {},
   "outputs": [
    {
     "name": "stdout",
     "output_type": "stream",
     "text": [
      "5\n",
      "7\n",
      "9\n",
      "11\n"
     ]
    }
   ],
   "source": [
    "a=5\n",
    "b = 12\n",
    "while(a<b):\n",
    "    print(a)\n",
    "    a+=2"
   ]
  },
  {
   "cell_type": "code",
   "execution_count": 17,
   "metadata": {},
   "outputs": [
    {
     "name": "stdout",
     "output_type": "stream",
     "text": [
      "1\n",
      "4\n",
      "9\n",
      "16\n",
      "25\n",
      "36\n",
      "49\n",
      "64\n",
      "81\n",
      "100\n"
     ]
    }
   ],
   "source": [
    "## Q) print the square of number from 1 to 10\n",
    "a=1\n",
    "while(a<=10):\n",
    "    print(a**2)\n",
    "    a+=1"
   ]
  },
  {
   "cell_type": "code",
   "execution_count": 18,
   "metadata": {},
   "outputs": [
    {
     "name": "stdout",
     "output_type": "stream",
     "text": [
      "1\n",
      "4\n",
      "9\n",
      "16\n",
      "25\n",
      "36\n",
      "49\n",
      "64\n",
      "81\n",
      "100\n",
      "121\n",
      "144\n",
      "169\n",
      "196\n",
      "225\n",
      "256\n",
      "289\n",
      "324\n",
      "361\n",
      "400\n",
      "441\n",
      "484\n"
     ]
    }
   ],
   "source": [
    "## keep on printing values till the square of values is <500\n",
    "a =1\n",
    "while(a**2<=500):\n",
    "    print(a**2)\n",
    "    a=a+1"
   ]
  },
  {
   "cell_type": "code",
   "execution_count": 19,
   "metadata": {},
   "outputs": [
    {
     "name": "stdout",
     "output_type": "stream",
     "text": [
      "1\n",
      "4\n",
      "9\n",
      "16\n",
      "25\n",
      "36\n",
      "49\n",
      "64\n",
      "81\n",
      "100\n",
      "121\n",
      "144\n",
      "169\n",
      "196\n",
      "225\n",
      "256\n",
      "289\n",
      "324\n",
      "361\n",
      "400\n",
      "441\n",
      "484\n",
      "Time taken: 0.014989376068115234\n"
     ]
    }
   ],
   "source": [
    "a =1\n",
    "import time\n",
    "start_time = time.time()\n",
    "while(a**2<=500):\n",
    "    print(a**2)\n",
    "    a=a+1\n",
    "end_time = time.time()\n",
    "print('Time taken:',end_time-start_time)"
   ]
  },
  {
   "cell_type": "code",
   "execution_count": 20,
   "metadata": {},
   "outputs": [
    {
     "name": "stdout",
     "output_type": "stream",
     "text": [
      "7\n",
      "14\n",
      "21\n",
      "28\n",
      "35\n",
      "42\n",
      "49\n",
      "56\n",
      "63\n",
      "70\n"
     ]
    }
   ],
   "source": [
    "## print the table of 7 using while loop\n",
    "a = 1\n",
    "while(a*7<=70):\n",
    "    print(a*7)\n",
    "    a+=1"
   ]
  },
  {
   "cell_type": "code",
   "execution_count": 21,
   "metadata": {},
   "outputs": [
    {
     "name": "stdout",
     "output_type": "stream",
     "text": [
      "7 * 1 = 7\n",
      "7 * 2 = 14\n",
      "7 * 3 = 21\n",
      "7 * 4 = 28\n",
      "7 * 5 = 35\n",
      "7 * 6 = 42\n",
      "7 * 7 = 49\n",
      "7 * 8 = 56\n",
      "7 * 9 = 63\n",
      "7 * 10 = 70\n"
     ]
    }
   ],
   "source": [
    "i = 1\n",
    "n = 7\n",
    "while(i<=10):\n",
    "    print(n,\"*\",i,\"=\",n*i)\n",
    "    i=i+1"
   ]
  },
  {
   "cell_type": "code",
   "execution_count": 22,
   "metadata": {},
   "outputs": [
    {
     "name": "stdout",
     "output_type": "stream",
     "text": [
      "A\n",
      "s\n",
      "h\n",
      "i\n",
      "s\n",
      "h\n"
     ]
    }
   ],
   "source": [
    "## print the alphabets of our name\n",
    "\n",
    "a = 'Ashish'\n",
    "b= len(a)\n",
    "\n",
    "i = 0\n",
    "while(i<len(a)):\n",
    "    print(a[i])\n",
    "    i+=1\n"
   ]
  },
  {
   "cell_type": "markdown",
   "metadata": {},
   "source": [
    "## For Loop"
   ]
  },
  {
   "cell_type": "code",
   "execution_count": 23,
   "metadata": {},
   "outputs": [
    {
     "name": "stdout",
     "output_type": "stream",
     "text": [
      "A\n",
      "s\n",
      "h\n",
      "i\n",
      "s\n",
      "h\n"
     ]
    }
   ],
   "source": [
    "## print the alphabets of our name\n",
    "a = 'Ashish'\n",
    "for i in a:\n",
    "    print(i)"
   ]
  },
  {
   "cell_type": "code",
   "execution_count": 24,
   "metadata": {},
   "outputs": [
    {
     "name": "stdout",
     "output_type": "stream",
     "text": [
      "10\n",
      "20\n",
      "30\n"
     ]
    }
   ],
   "source": [
    "## list\n",
    "sample_list = [10,20,30,40,50]\n",
    "## using the for loop, print first 3 element of list\n",
    "for i in sample_list[0:3]:\n",
    "        print(i)\n",
    "    "
   ]
  },
  {
   "cell_type": "code",
   "execution_count": 25,
   "metadata": {},
   "outputs": [
    {
     "name": "stdout",
     "output_type": "stream",
     "text": [
      "A\n",
      "s\n",
      "h\n"
     ]
    }
   ],
   "source": [
    "a = 'Ashish'\n",
    "for i in a:\n",
    "    if i == 'i':\n",
    "        break\n",
    "    print(i)"
   ]
  },
  {
   "cell_type": "code",
   "execution_count": 26,
   "metadata": {},
   "outputs": [
    {
     "name": "stdout",
     "output_type": "stream",
     "text": [
      "A\n",
      "s\n",
      "h\n"
     ]
    }
   ],
   "source": [
    "for i in a[0:3]:\n",
    "    print(i)"
   ]
  },
  {
   "cell_type": "code",
   "execution_count": 27,
   "metadata": {
    "scrolled": true
   },
   "outputs": [
    {
     "name": "stdout",
     "output_type": "stream",
     "text": [
      "40\n",
      "50\n",
      "70\n",
      "80\n",
      "90\n"
     ]
    }
   ],
   "source": [
    "sample_list = [10,20,30,40,50,70,80,90]\n",
    "for i in sample_list[3:]:\n",
    "    print(i)"
   ]
  },
  {
   "cell_type": "code",
   "execution_count": 28,
   "metadata": {},
   "outputs": [
    {
     "name": "stdout",
     "output_type": "stream",
     "text": [
      "40\n",
      "50\n",
      "70\n",
      "80\n",
      "90\n"
     ]
    }
   ],
   "source": [
    "sample_list = [10,20,30,40,50,70,80,90]\n",
    "for i in sample_list[-5:]:\n",
    "    print(i)"
   ]
  },
  {
   "cell_type": "code",
   "execution_count": 29,
   "metadata": {},
   "outputs": [
    {
     "name": "stdout",
     "output_type": "stream",
     "text": [
      "40\n",
      "50\n",
      "35\n",
      "90\n"
     ]
    }
   ],
   "source": [
    "## print only those values which are geater than 30\n",
    "sample_list = [10,20,30,40,50,25,35,90]\n",
    "for i in sample_list:\n",
    "    if i>30:\n",
    "        print(i)"
   ]
  },
  {
   "cell_type": "code",
   "execution_count": 30,
   "metadata": {},
   "outputs": [
    {
     "name": "stdout",
     "output_type": "stream",
     "text": [
      "[10, 200, 30, 40, 50, 'ABC', 60, 70]\n"
     ]
    }
   ],
   "source": [
    "a = [10,20,30,40,50,' ',60,70]\n",
    "##update the list\n",
    "##Replace 20 by 200\n",
    "## and '' by 'ABC'\n",
    "index_num = 0\n",
    "for i in a:\n",
    "    if (i==20):\n",
    "        a[index_num]=200\n",
    "    elif(i==' '):\n",
    "        a[index_num]='ABC'\n",
    "    index_num+= 1\n",
    "print(a)    \n",
    "    "
   ]
  },
  {
   "cell_type": "markdown",
   "metadata": {},
   "source": [
    "## Range Function"
   ]
  },
  {
   "cell_type": "code",
   "execution_count": 31,
   "metadata": {},
   "outputs": [],
   "source": [
    "## only takes integer as an input\n",
    "## Return a list of valuing from 0 to n-1"
   ]
  },
  {
   "cell_type": "code",
   "execution_count": 32,
   "metadata": {},
   "outputs": [
    {
     "data": {
      "text/plain": [
       "range(0, 5)"
      ]
     },
     "execution_count": 32,
     "metadata": {},
     "output_type": "execute_result"
    }
   ],
   "source": [
    "range(5)"
   ]
  },
  {
   "cell_type": "code",
   "execution_count": 33,
   "metadata": {},
   "outputs": [
    {
     "name": "stdout",
     "output_type": "stream",
     "text": [
      "0\n",
      "1\n",
      "2\n",
      "3\n",
      "4\n"
     ]
    }
   ],
   "source": [
    "for i in range(5):\n",
    "    print(i)"
   ]
  },
  {
   "cell_type": "code",
   "execution_count": 34,
   "metadata": {},
   "outputs": [
    {
     "name": "stdout",
     "output_type": "stream",
     "text": [
      "3\n",
      "4\n",
      "5\n",
      "6\n",
      "7\n",
      "8\n"
     ]
    }
   ],
   "source": [
    "## range(a,b)\n",
    "## a to b-1\n",
    "for i in range(3,9):\n",
    "    print(i)"
   ]
  },
  {
   "cell_type": "code",
   "execution_count": 35,
   "metadata": {},
   "outputs": [
    {
     "name": "stdout",
     "output_type": "stream",
     "text": [
      "1\n",
      "3\n",
      "5\n",
      "7\n"
     ]
    }
   ],
   "source": [
    "## range(a,b,c)\n",
    "## jumb of size c\n",
    "\n",
    "for i in range(1,9,2):\n",
    "    print(i)"
   ]
  },
  {
   "cell_type": "code",
   "execution_count": 36,
   "metadata": {},
   "outputs": [
    {
     "name": "stdout",
     "output_type": "stream",
     "text": [
      "7\n",
      "9\n",
      "11\n",
      "13\n",
      "15\n",
      "17\n",
      "19\n",
      "21\n",
      "23\n"
     ]
    }
   ],
   "source": [
    "## print all the odd nimber between 7 to 24\n",
    "for i in range(7,24,2):\n",
    "    print(i)"
   ]
  },
  {
   "cell_type": "code",
   "execution_count": 37,
   "metadata": {},
   "outputs": [
    {
     "name": "stdout",
     "output_type": "stream",
     "text": [
      "0\n",
      "3\n",
      "5\n",
      "6\n",
      "9\n",
      "10\n",
      "12\n",
      "15\n",
      "18\n",
      "20\n"
     ]
    }
   ],
   "source": [
    "## find the sum of all the numbers divisible by 3 or 5\n",
    "## lying between 0 to 20\n",
    "result = 0\n",
    "for i in range(0,21):\n",
    "    if i%3==0 or i%5==0:\n",
    "        print(i)\n",
    "        result = result+i"
   ]
  },
  {
   "cell_type": "code",
   "execution_count": 38,
   "metadata": {},
   "outputs": [
    {
     "name": "stdout",
     "output_type": "stream",
     "text": [
      "98\n"
     ]
    }
   ],
   "source": [
    "print(result)"
   ]
  },
  {
   "cell_type": "code",
   "execution_count": 39,
   "metadata": {},
   "outputs": [],
   "source": [
    "##Question\n",
    "## 1\n",
    "## 1 2\n",
    "## 1 2 3\n",
    "## 1 2 3 4\n"
   ]
  },
  {
   "cell_type": "code",
   "execution_count": 40,
   "metadata": {},
   "outputs": [
    {
     "name": "stdout",
     "output_type": "stream",
     "text": [
      "6\n",
      "7\n"
     ]
    }
   ],
   "source": [
    "print(6)\n",
    "print(7)"
   ]
  },
  {
   "cell_type": "code",
   "execution_count": 41,
   "metadata": {},
   "outputs": [
    {
     "name": "stdout",
     "output_type": "stream",
     "text": [
      "6  7\n"
     ]
    }
   ],
   "source": [
    "print(6, end='  ')\n",
    "print(7)"
   ]
  },
  {
   "cell_type": "code",
   "execution_count": 42,
   "metadata": {},
   "outputs": [
    {
     "name": "stdout",
     "output_type": "stream",
     "text": [
      "1 1 2 1 2 3 1 2 3 4 "
     ]
    }
   ],
   "source": [
    "for i in range(1,5):\n",
    "    for j in range(1,i+1):\n",
    "        print(j, end=' ')"
   ]
  },
  {
   "cell_type": "code",
   "execution_count": 43,
   "metadata": {},
   "outputs": [
    {
     "name": "stdout",
     "output_type": "stream",
     "text": [
      "1 \n",
      "1 2 \n",
      "1 2 3 \n",
      "1 2 3 4 \n"
     ]
    }
   ],
   "source": [
    "for i in range(1,5):\n",
    "    for j in range(1,i+1):\n",
    "        print(j, end=' ')\n",
    "    print()"
   ]
  },
  {
   "cell_type": "code",
   "execution_count": 44,
   "metadata": {},
   "outputs": [
    {
     "name": "stdout",
     "output_type": "stream",
     "text": [
      "0\n",
      "1\n",
      "\n",
      "0\n",
      "1\n",
      "2\n",
      "\n",
      "0\n",
      "1\n",
      "2\n",
      "3\n",
      "\n",
      "0\n",
      "1\n",
      "2\n",
      "3\n",
      "4\n",
      "\n"
     ]
    }
   ],
   "source": [
    "for i in range(1,5):\n",
    "    for j in range(i+1):\n",
    "        print(j)\n",
    "    print()"
   ]
  },
  {
   "cell_type": "code",
   "execution_count": 45,
   "metadata": {},
   "outputs": [
    {
     "name": "stdout",
     "output_type": "stream",
     "text": [
      "1 \n",
      "2 1 \n",
      "3 2 1 \n",
      "4 3 2 1 \n"
     ]
    }
   ],
   "source": [
    "for i in range(1,5):\n",
    "    for j in range(i,0,-1):\n",
    "        print(j, end=' ')\n",
    "    print()"
   ]
  },
  {
   "cell_type": "markdown",
   "metadata": {},
   "source": [
    "## Break statement"
   ]
  },
  {
   "cell_type": "code",
   "execution_count": 46,
   "metadata": {},
   "outputs": [
    {
     "name": "stdout",
     "output_type": "stream",
     "text": [
      "40\n"
     ]
    }
   ],
   "source": [
    "list_1 = [10,20,30,40,50,60]\n",
    "for i in list_1:\n",
    "    if i>30:\n",
    "        print(i)\n",
    "        break"
   ]
  },
  {
   "cell_type": "code",
   "execution_count": 47,
   "metadata": {},
   "outputs": [
    {
     "name": "stdout",
     "output_type": "stream",
     "text": [
      "position 3\n",
      "value 80\n"
     ]
    }
   ],
   "source": [
    "list_2 = [10,20,30,80,40,50,60,70]\n",
    "## position and value of first element which is divisible by 40\n",
    "position = 0\n",
    "for i in list_2:\n",
    "    if i%40==0:\n",
    "        print('position',position)\n",
    "        print('value',i)\n",
    "        break\n",
    "    position = position+1"
   ]
  },
  {
   "cell_type": "code",
   "execution_count": 48,
   "metadata": {},
   "outputs": [
    {
     "name": "stdout",
     "output_type": "stream",
     "text": [
      "position 3\n",
      "value 80\n",
      "position 4\n",
      "value 40\n"
     ]
    }
   ],
   "source": [
    "list_2 = [10,20,30,80,40,50,60,70]\n",
    "## position and value of all element which is divisible by 40\n",
    "position = 0\n",
    "for i in list_2:\n",
    "    if i%40==0:\n",
    "        print('position',position)\n",
    "        print('value',i)\n",
    "    position = position+1"
   ]
  },
  {
   "cell_type": "code",
   "execution_count": 49,
   "metadata": {},
   "outputs": [
    {
     "name": "stdout",
     "output_type": "stream",
     "text": [
      "value 20\n",
      "value 40\n"
     ]
    }
   ],
   "source": [
    "list_3 = [10,20,35,40,55,87,60,80,89]\n",
    "## print the first 2 element divisible by 20\n",
    "count =0\n",
    "for i in list_3:\n",
    "    if i%20==0:\n",
    "        print('value',i)\n",
    "        count = count +1\n",
    "        if count ==2:\n",
    "            break"
   ]
  },
  {
   "cell_type": "markdown",
   "metadata": {},
   "source": [
    "## Continue Statement"
   ]
  },
  {
   "cell_type": "code",
   "execution_count": 50,
   "metadata": {},
   "outputs": [
    {
     "name": "stdout",
     "output_type": "stream",
     "text": [
      "1\n",
      "2\n",
      "3\n",
      "5\n",
      "6\n",
      "7\n",
      "9\n",
      "10\n"
     ]
    }
   ],
   "source": [
    "### we want print all number from 1 to 10\n",
    "## except those numbers which are divisible by 4\n",
    "for i in range(1,11):\n",
    "    if i%4==0:\n",
    "        continue\n",
    "    else:\n",
    "        print(i)"
   ]
  },
  {
   "cell_type": "code",
   "execution_count": 51,
   "metadata": {},
   "outputs": [
    {
     "name": "stdout",
     "output_type": "stream",
     "text": [
      "s\n",
      "h\n"
     ]
    }
   ],
   "source": [
    "## print alphabets of your full name\n",
    "## stop printing if alphabet 'e','i'or'u'comes\n",
    "##donot print alphabet 'a' or 'o', if they come\n",
    "name = 'ashish kapasiya'\n",
    "for i in name:\n",
    "    if (i==\"a\" or i==\"o\"):\n",
    "        continue\n",
    "    elif (i==\"i\" or i==\"e\" or i==\"u\"):\n",
    "        break\n",
    "    else:\n",
    "        print(i)\n"
   ]
  },
  {
   "cell_type": "code",
   "execution_count": 52,
   "metadata": {},
   "outputs": [
    {
     "name": "stdout",
     "output_type": "stream",
     "text": [
      "s\n",
      "h\n"
     ]
    }
   ],
   "source": [
    "for i in name:\n",
    "    if (i=='a' or i=='o'):\n",
    "            continue\n",
    "    if(i=='e' or i=='i' or i=='u'):\n",
    "        break\n",
    "        \n",
    "    print(i)"
   ]
  },
  {
   "cell_type": "code",
   "execution_count": 53,
   "metadata": {},
   "outputs": [
    {
     "name": "stdout",
     "output_type": "stream",
     "text": [
      "s\n",
      "h\n"
     ]
    }
   ],
   "source": [
    "lis1=['a','o']\n",
    "lis2=['e','i','u']\n",
    "for i in name:\n",
    "    if i in lis1:\n",
    "        continue\n",
    "    if i in lis2:\n",
    "        break\n",
    "    print(i)"
   ]
  },
  {
   "cell_type": "code",
   "execution_count": 54,
   "metadata": {},
   "outputs": [
    {
     "name": "stdout",
     "output_type": "stream",
     "text": [
      "80\n",
      "160\n",
      "240\n"
     ]
    }
   ],
   "source": [
    "num = 80\n",
    "count =0\n",
    "i =0\n",
    "## print the first 3 numbers which are divisible by num  \n",
    "while True:\n",
    "    i = i+1\n",
    "    if (i%num==0):\n",
    "        print(i)\n",
    "        count = count+1\n",
    "        if count ==3:\n",
    "            break\n",
    "    \n"
   ]
  },
  {
   "cell_type": "code",
   "execution_count": 58,
   "metadata": {},
   "outputs": [
    {
     "name": "stdout",
     "output_type": "stream",
     "text": [
      "80\n",
      "160\n",
      "240\n"
     ]
    }
   ],
   "source": [
    "num = 80\n",
    "end_loop = num*3\n",
    "for i in range(1,end_loop+1):\n",
    "    if i%num==0:\n",
    "        print(i)"
   ]
  },
  {
   "cell_type": "code",
   "execution_count": null,
   "metadata": {},
   "outputs": [],
   "source": []
  }
 ],
 "metadata": {
  "kernelspec": {
   "display_name": "Python 3",
   "language": "python",
   "name": "python3"
  },
  "language_info": {
   "codemirror_mode": {
    "name": "ipython",
    "version": 3
   },
   "file_extension": ".py",
   "mimetype": "text/x-python",
   "name": "python",
   "nbconvert_exporter": "python",
   "pygments_lexer": "ipython3",
   "version": "3.7.1"
  }
 },
 "nbformat": 4,
 "nbformat_minor": 2
}
